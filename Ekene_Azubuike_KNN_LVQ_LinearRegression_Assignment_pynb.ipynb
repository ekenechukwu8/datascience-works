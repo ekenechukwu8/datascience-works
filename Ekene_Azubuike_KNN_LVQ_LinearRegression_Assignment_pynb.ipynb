{
  "nbformat": 4,
  "nbformat_minor": 0,
  "metadata": {
    "colab": {
      "provenance": []
    },
    "kernelspec": {
      "name": "python3",
      "display_name": "Python 3"
    },
    "language_info": {
      "name": "python"
    }
  },
  "cells": [
    {
      "cell_type": "code",
      "execution_count": 5,
      "metadata": {
        "colab": {
          "base_uri": "https://localhost:8080/"
        },
        "id": "Ro8edEcpSQe0",
        "outputId": "bd332f2e-d1c4-40b9-879d-dcf4ce875b3b"
      },
      "outputs": [
        {
          "output_type": "stream",
          "name": "stdout",
          "text": [
            "KNN Accuracy: 1.0\n",
            "LVQ Accuracy: 0.9667\n",
            "Linear Regression MSE (California Housing): 0.7193985663893881\n"
          ]
        }
      ],
      "source": [
        "import numpy as np\n",
        "import pandas as pd\n",
        "from sklearn.datasets import load_iris, fetch_california_housing\n",
        "from sklearn.model_selection import train_test_split\n",
        "from sklearn.preprocessing import StandardScaler\n",
        "\n",
        "# KNN from scratch\n",
        "def knn_predict(X_train, y_train, X_test, k=3):\n",
        "    predictions = []\n",
        "    for x in X_test:\n",
        "        distances = np.linalg.norm(X_train - x, axis=1)\n",
        "        idx = np.argsort(distances)[:k]\n",
        "        nearest_labels = y_train[idx]\n",
        "        counts = np.bincount(nearest_labels)\n",
        "        predictions.append(np.argmax(counts))\n",
        "    return np.array(predictions)\n",
        "\n",
        "# LVQ from scratch\n",
        "def lvq_train(X, y, n_classes, n_epochs=50, lr=0.01):\n",
        "    codebook = np.zeros((n_classes, X.shape[1]))\n",
        "    for i in range(n_classes):\n",
        "        codebook[i] = X[y == i][0]\n",
        "    for epoch in range(n_epochs):\n",
        "        for i in range(len(X)):\n",
        "            dists = np.linalg.norm(codebook - X[i], axis=1)\n",
        "            winner = np.argmin(dists)\n",
        "            if winner == y[i]:\n",
        "                codebook[winner] += lr * (X[i] - codebook[winner])\n",
        "            else:\n",
        "                codebook[winner] -= lr * (X[i] - codebook[winner])\n",
        "    return codebook\n",
        "\n",
        "def lvq_predict(codebook, X):\n",
        "    predictions = []\n",
        "    for x in X:\n",
        "        dists = np.linalg.norm(codebook - x, axis=1)\n",
        "        predictions.append(np.argmin(dists))\n",
        "    return np.array(predictions)\n",
        "\n",
        "# Linear Regression from scratch using gradient descent\n",
        "def linear_regression(X, y, lr=0.01, epochs=200):\n",
        "    X = np.c_[np.ones(X.shape[0]), X]\n",
        "    weights = np.zeros(X.shape[1])\n",
        "    for _ in range(epochs):\n",
        "        preds = X.dot(weights)\n",
        "        errors = preds - y\n",
        "        grad = X.T.dot(errors) / len(y)\n",
        "        weights -= lr * grad\n",
        "    return weights\n",
        "\n",
        "def predict_lr(X, weights):\n",
        "    X = np.c_[np.ones(X.shape[0]), X]\n",
        "    return X.dot(weights)\n",
        "\n",
        "# Load IRIS for KNN & LVQ\n",
        "iris = load_iris()\n",
        "X_iris, y_iris = iris.data, iris.target\n",
        "X_train_iris, X_test_iris, y_train_iris, y_test_iris = train_test_split(X_iris, y_iris, test_size=0.2, random_state=42)\n",
        "\n",
        "# Run KNN\n",
        "knn_preds = knn_predict(X_train_iris, y_train_iris, X_test_iris, k=3)\n",
        "knn_acc = np.mean(knn_preds == y_test_iris)\n",
        "\n",
        "# Run LVQ\n",
        "lvq_codebook = lvq_train(X_train_iris, y_train_iris, n_classes=3, n_epochs=100, lr=0.01)\n",
        "lvq_preds = lvq_predict(lvq_codebook, X_test_iris)\n",
        "lvq_acc = np.mean(lvq_preds == y_test_iris)\n",
        "\n",
        "# Load California Housing for Linear Regression\n",
        "housing = fetch_california_housing()\n",
        "X_h, y_h = housing.data, housing.target\n",
        "X_train_h, X_test_h, y_train_h, y_test_h = train_test_split(X_h, y_h, test_size=0.2, random_state=42)\n",
        "\n",
        "# Scale features\n",
        "scaler = StandardScaler()\n",
        "X_train_h = scaler.fit_transform(X_train_h)\n",
        "X_test_h = scaler.transform(X_test_h)\n",
        "\n",
        "# Train Linear Regression\n",
        "weights = linear_regression(X_train_h, y_train_h)\n",
        "y_pred = predict_lr(X_test_h, weights)\n",
        "\n",
        "# MSE\n",
        "mse = np.mean((y_pred - y_test_h) ** 2) if not np.isnan(y_pred).any() else \"Prediction contains NaN\"\n",
        "\n",
        "# Print Results\n",
        "print(f\"KNN Accuracy: {round(knn_acc, 4)}\")\n",
        "print(f\"LVQ Accuracy: {round(lvq_acc, 4)}\")\n",
        "print(f\"Linear Regression MSE (California Housing): {mse}\")\n"
      ]
    }
  ]
}